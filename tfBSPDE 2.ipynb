{
 "cells": [
  {
   "cell_type": "markdown",
   "id": "772ace6a-d104-4782-9a39-7b04805c71be",
   "metadata": {},
   "source": [
    "## $\\textsf{Time Fractional Black-Scholes Partial Differential Equation (tfBSPDE)}$"
   ]
  },
  {
   "cell_type": "code",
   "execution_count": null,
   "id": "022e782c-ab53-48e5-97bf-9cabc064266e",
   "metadata": {},
   "outputs": [],
   "source": [
    "import streamlit as st\n",
    "\n",
    "st.title(\"Author Sylvester Cleve\")"
   ]
  },
  {
   "cell_type": "code",
   "execution_count": null,
   "id": "2ff6d067-2005-4efe-95a2-ab206df83586",
   "metadata": {},
   "outputs": [],
   "source": []
  }
 ],
 "metadata": {
  "kernelspec": {
   "display_name": "Python 3 (ipykernel)",
   "language": "python",
   "name": "python3"
  },
  "language_info": {
   "codemirror_mode": {
    "name": "ipython",
    "version": 3
   },
   "file_extension": ".py",
   "mimetype": "text/x-python",
   "name": "python",
   "nbconvert_exporter": "python",
   "pygments_lexer": "ipython3",
   "version": "3.11.12"
  }
 },
 "nbformat": 4,
 "nbformat_minor": 5
}
